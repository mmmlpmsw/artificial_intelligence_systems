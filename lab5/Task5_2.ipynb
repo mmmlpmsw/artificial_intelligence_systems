{
  "nbformat": 4,
  "nbformat_minor": 0,
  "metadata": {
    "kernelspec": {
      "display_name": "Python 3",
      "language": "python",
      "name": "python3"
    },
    "language_info": {
      "codemirror_mode": {
        "name": "ipython",
        "version": 3
      },
      "file_extension": ".py",
      "mimetype": "text/x-python",
      "name": "python",
      "nbconvert_exporter": "python",
      "pygments_lexer": "ipython3",
      "version": "3.7.3"
    },
    "colab": {
      "name": "Task5_2.ipynb",
      "provenance": []
    }
  },
  "cells": [
    {
      "cell_type": "code",
      "metadata": {
        "colab": {
          "base_uri": "https://localhost:8080/"
        },
        "id": "sD-SVQA6EPn1",
        "outputId": "622d156a-c5e8-4d33-be12-fe74e377563c"
      },
      "source": [
        "!pip install --upgrade pip\n",
        "!pip install --upgrade scikit-learn==0.23.0"
      ],
      "execution_count": 1,
      "outputs": [
        {
          "output_type": "stream",
          "text": [
            "Collecting pip\n",
            "\u001b[?25l  Downloading https://files.pythonhosted.org/packages/ab/11/2dc62c5263d9eb322f2f028f7b56cd9d096bb8988fcf82d65fa2e4057afe/pip-20.3.1-py2.py3-none-any.whl (1.5MB)\n",
            "\u001b[K     |████████████████████████████████| 1.5MB 6.0MB/s \n",
            "\u001b[?25hInstalling collected packages: pip\n",
            "  Found existing installation: pip 19.3.1\n",
            "    Uninstalling pip-19.3.1:\n",
            "      Successfully uninstalled pip-19.3.1\n",
            "Successfully installed pip-20.3.1\n",
            "Collecting scikit-learn==0.23.0\n",
            "  Downloading scikit_learn-0.23.0-cp36-cp36m-manylinux1_x86_64.whl (7.3 MB)\n",
            "\u001b[K     |████████████████████████████████| 7.3 MB 5.4 MB/s \n",
            "\u001b[?25hRequirement already satisfied: numpy>=1.13.3 in /usr/local/lib/python3.6/dist-packages (from scikit-learn==0.23.0) (1.18.5)\n",
            "Requirement already satisfied: scipy>=0.19.1 in /usr/local/lib/python3.6/dist-packages (from scikit-learn==0.23.0) (1.4.1)\n",
            "Requirement already satisfied: joblib>=0.11 in /usr/local/lib/python3.6/dist-packages (from scikit-learn==0.23.0) (0.17.0)\n",
            "Requirement already satisfied: numpy>=1.13.3 in /usr/local/lib/python3.6/dist-packages (from scikit-learn==0.23.0) (1.18.5)\n",
            "Collecting threadpoolctl>=2.0.0\n",
            "  Downloading threadpoolctl-2.1.0-py3-none-any.whl (12 kB)\n",
            "Installing collected packages: threadpoolctl, scikit-learn\n",
            "  Attempting uninstall: scikit-learn\n",
            "    Found existing installation: scikit-learn 0.22.2.post1\n",
            "    Uninstalling scikit-learn-0.22.2.post1:\n",
            "      Successfully uninstalled scikit-learn-0.22.2.post1\n",
            "Successfully installed scikit-learn-0.23.0 threadpoolctl-2.1.0\n"
          ],
          "name": "stdout"
        }
      ]
    },
    {
      "cell_type": "code",
      "metadata": {
        "id": "zEEz7ElGEPn5"
      },
      "source": [
        "import numpy as np\n",
        "import matplotlib\n",
        "import matplotlib.pyplot as plt\n",
        "%matplotlib inline\n",
        "from sklearn.metrics import classification_report"
      ],
      "execution_count": 2,
      "outputs": []
    },
    {
      "cell_type": "markdown",
      "metadata": {
        "id": "cETMCHzNEPn5"
      },
      "source": [
        "MNIST - датасет образцов рукописного написания цифр, является стандартом, предложенным Национальным институтом стандартов и технологий США с целью калибрации и сопоставления методов распознавания изображений с помощью машинного обучения. Образцы из набора NIST были нормализированы, прошли сглаживание и приведены к серому полутоновому изображению размером 28x28 пикселей. "
      ]
    },
    {
      "cell_type": "code",
      "metadata": {
        "id": "ht1q0kKzEPn5",
        "colab": {
          "base_uri": "https://localhost:8080/"
        },
        "outputId": "2e5be853-dc05-46eb-8988-8d93e189415f"
      },
      "source": [
        "from keras.datasets import mnist\n",
        "(X_train, y_train), (X_pred, y_pred) = mnist.load_data()"
      ],
      "execution_count": 3,
      "outputs": [
        {
          "output_type": "stream",
          "text": [
            "Downloading data from https://storage.googleapis.com/tensorflow/tf-keras-datasets/mnist.npz\n",
            "11493376/11490434 [==============================] - 0s 0us/step\n"
          ],
          "name": "stdout"
        }
      ]
    },
    {
      "cell_type": "markdown",
      "metadata": {
        "id": "rbCVM_GSEPn5"
      },
      "source": [
        "Первый элемент"
      ]
    },
    {
      "cell_type": "code",
      "metadata": {
        "colab": {
          "base_uri": "https://localhost:8080/",
          "height": 298
        },
        "id": "yTI2vqZaEPn5",
        "outputId": "131a5489-0000-4587-f160-e2b0458b812e"
      },
      "source": [
        "plt.title(\"Нулевой объект из тренировочного набора:\")\n",
        "plt.imshow(X_train[0], cmap=\"gray\")"
      ],
      "execution_count": 4,
      "outputs": [
        {
          "output_type": "execute_result",
          "data": {
            "text/plain": [
              "<matplotlib.image.AxesImage at 0x7f4af5b0c400>"
            ]
          },
          "metadata": {
            "tags": []
          },
          "execution_count": 4
        },
        {
          "output_type": "display_data",
          "data": {
            "image/png": "[encoded data removed]",
            "text/plain": [
              "<Figure size 432x288 with 1 Axes>"
            ]
          },
          "metadata": {
            "tags": [],
            "needs_background": "light"
          }
        }
      ]
    },
    {
      "cell_type": "markdown",
      "metadata": {
        "id": "vSdOHtozEPn5"
      },
      "source": [
        "И его отклик"
      ]
    },
    {
      "cell_type": "code",
      "metadata": {
        "colab": {
          "base_uri": "https://localhost:8080/"
        },
        "id": "GkzJveiMEPn5",
        "outputId": "03cdb149-5bb5-4131-f476-dafb950b0d27"
      },
      "source": [
        "y_train[0]"
      ],
      "execution_count": 5,
      "outputs": [
        {
          "output_type": "execute_result",
          "data": {
            "text/plain": [
              "5"
            ]
          },
          "metadata": {
            "tags": []
          },
          "execution_count": 5
        }
      ]
    },
    {
      "cell_type": "markdown",
      "metadata": {
        "id": "gEN5l0tNEPn6"
      },
      "source": [
        "Для разделения данных используем функцию train_test_split из библиотеки sklearn. Следующий код разделяет исходные данные в отношении 70/30."
      ]
    },
    {
      "cell_type": "code",
      "metadata": {
        "id": "MgR5AHdsEPn6"
      },
      "source": [
        "from sklearn.model_selection import train_test_split\n",
        "\n",
        "X_train, X_test, y_train, y_test = train_test_split(X_train, y_train, test_size=0.3, random_state=2020)\n"
      ],
      "execution_count": 6,
      "outputs": []
    },
    {
      "cell_type": "markdown",
      "metadata": {
        "id": "41amEIiTEPn6"
      },
      "source": [
        "Преобразуем данные"
      ]
    },
    {
      "cell_type": "code",
      "metadata": {
        "id": "pKP3oO01EPn6"
      },
      "source": [
        "dim = 784 # 28*28 \n",
        "X_train = X_train.reshape(len(X_train), dim)\n",
        "X_test = X_test.reshape(len(X_test), dim)"
      ],
      "execution_count": 7,
      "outputs": []
    },
    {
      "cell_type": "markdown",
      "metadata": {
        "id": "xzFNaByuEPn6"
      },
      "source": [
        "Уменьшим размерность тестовых данных"
      ]
    },
    {
      "cell_type": "code",
      "metadata": {
        "id": "L5K6pDieEPn6"
      },
      "source": [
        "from sklearn.decomposition import PCA\n",
        "\n",
        "pca = PCA(n_components=49, svd_solver='full')\n",
        "modelPCA = pca.fit(X_train) \n",
        "\n",
        "X_train = modelPCA.transform(X_train)\n",
        "\n"
      ],
      "execution_count": 8,
      "outputs": []
    },
    {
      "cell_type": "markdown",
      "metadata": {
        "id": "7kHBt5bvEPn6"
      },
      "source": [
        "Найдем долю объясненной дисперсии в зависимости от количества используемых ГК"
      ]
    },
    {
      "cell_type": "code",
      "metadata": {
        "colab": {
          "base_uri": "https://localhost:8080/"
        },
        "id": "G8w1YmjbEPn6",
        "outputId": "c683465d-24e9-48fd-8788-43eb826435c6"
      },
      "source": [
        "explained_variance = np.round(np.cumsum(pca.explained_variance_ratio_),3)\n",
        "explained_variance\n"
      ],
      "execution_count": 9,
      "outputs": [
        {
          "output_type": "execute_result",
          "data": {
            "text/plain": [
              "array([0.098, 0.168, 0.23 , 0.284, 0.333, 0.375, 0.408, 0.437, 0.464,\n",
              "       0.488, 0.509, 0.53 , 0.547, 0.564, 0.579, 0.594, 0.608, 0.62 ,\n",
              "       0.632, 0.644, 0.654, 0.664, 0.674, 0.683, 0.692, 0.7  , 0.708,\n",
              "       0.716, 0.724, 0.731, 0.737, 0.744, 0.75 , 0.756, 0.761, 0.767,\n",
              "       0.772, 0.777, 0.781, 0.786, 0.791, 0.795, 0.799, 0.803, 0.807,\n",
              "       0.811, 0.815, 0.818, 0.821])"
            ]
          },
          "metadata": {
            "tags": []
          },
          "execution_count": 9
        }
      ]
    },
    {
      "cell_type": "code",
      "metadata": {
        "colab": {
          "base_uri": "https://localhost:8080/",
          "height": 282
        },
        "id": "ualPhEaoEPn6",
        "outputId": "3f587be7-5609-4407-b312-bc12d01aa92c"
      },
      "source": [
        "plt.plot(np.arange(49), explained_variance, ls = '-')"
      ],
      "execution_count": 10,
      "outputs": [
        {
          "output_type": "execute_result",
          "data": {
            "text/plain": [
              "[<matplotlib.lines.Line2D at 0x7f4af0f86d30>]"
            ]
          },
          "metadata": {
            "tags": []
          },
          "execution_count": 10
        },
        {
          "output_type": "display_data",
          "data": {
            "image/png": "[encoded data removed]",
            "text/plain": [
              "<Figure size 432x288 with 1 Axes>"
            ]
          },
          "metadata": {
            "tags": [],
            "needs_background": "light"
          }
        }
      ]
    },
    {
      "cell_type": "markdown",
      "metadata": {
        "id": "lQUMAx_yEPn6"
      },
      "source": [
        "Подключаем библиотеку для обучения многоклассового классификатора методом One-vs-All и дерево принятия решений"
      ]
    },
    {
      "cell_type": "code",
      "metadata": {
        "id": "moIvvnUyEPn6"
      },
      "source": [
        "from sklearn.multiclass import OneVsRestClassifier\n",
        "from sklearn.tree import DecisionTreeClassifier\n",
        "from sklearn.ensemble import RandomForestClassifier"
      ],
      "execution_count": 11,
      "outputs": []
    },
    {
      "cell_type": "code",
      "metadata": {
        "id": "XAKPQcuOEPn6"
      },
      "source": [
        "tree = RandomForestClassifier(criterion='gini', min_samples_leaf=10, max_depth=20, n_estimators=10, random_state=2020)\n",
        "clf = OneVsRestClassifier(tree).fit(X_train, y_train)"
      ],
      "execution_count": 12,
      "outputs": []
    },
    {
      "cell_type": "markdown",
      "metadata": {
        "id": "tWTPfLLREPn6"
      },
      "source": [
        "Примените полученное ранее преобразование метода главных компонент к тестовым данным"
      ]
    },
    {
      "cell_type": "code",
      "metadata": {
        "colab": {
          "base_uri": "https://localhost:8080/"
        },
        "id": "wN7sjtJIEPn6",
        "outputId": "89d525a0-ae9f-40ff-e315-ade24f525251"
      },
      "source": [
        "len(X_test[0])"
      ],
      "execution_count": 13,
      "outputs": [
        {
          "output_type": "execute_result",
          "data": {
            "text/plain": [
              "784"
            ]
          },
          "metadata": {
            "tags": []
          },
          "execution_count": 13
        }
      ]
    },
    {
      "cell_type": "code",
      "metadata": {
        "id": "Hgz6YbXjEPn6"
      },
      "source": [
        "modelPCA = pca.fit(X_test) \n",
        "X_test = modelPCA.transform(X_test)"
      ],
      "execution_count": 14,
      "outputs": []
    },
    {
      "cell_type": "code",
      "metadata": {
        "id": "vE8sv_mZEPn6"
      },
      "source": [
        "y_pred = clf.predict(X_test)"
      ],
      "execution_count": 15,
      "outputs": []
    },
    {
      "cell_type": "code",
      "metadata": {
        "id": "dW-yLYaEEPn6"
      },
      "source": [
        "from sklearn.metrics import confusion_matrix\n",
        "CM = confusion_matrix(y_test, y_pred)"
      ],
      "execution_count": 16,
      "outputs": []
    },
    {
      "cell_type": "code",
      "metadata": {
        "colab": {
          "base_uri": "https://localhost:8080/"
        },
        "id": "gaQoLjiEEPn6",
        "outputId": "54918db1-06ef-4595-bad3-a55c7cc77cf1"
      },
      "source": [
        "CM"
      ],
      "execution_count": 17,
      "outputs": [
        {
          "output_type": "execute_result",
          "data": {
            "text/plain": [
              "array([[1363,    0,   71,   78,    2,   49,   30,   49,   48,    3],\n",
              "       [   0, 1860,   51,   11,   11,    6,   47,   49,   35,    5],\n",
              "       [  54,   10,  986,   57,   46,   94,  357,   25,  111,   23],\n",
              "       [  29,    5,   55, 1521,   16,   93,    7,   39,   80,   28],\n",
              "       [   6,    9,   56,    7, 1348,   14,   43,   30,   70,  173],\n",
              "       [ 104,    5,  181,  240,   51,  556,    4,   66,  356,   28],\n",
              "       [  30,   19,  782,   30,   24,   22,  713,   25,  102,   19],\n",
              "       [  59,   41,   17,    7,   42,   13,   84, 1493,   30,  100],\n",
              "       [  35,   44,  108,  268,   64,  534,   35,   14,  569,  102],\n",
              "       [  26,   16,   27,   47,  413,   37,   31,  175,  119,  933]])"
            ]
          },
          "metadata": {
            "tags": []
          },
          "execution_count": 17
        }
      ]
    },
    {
      "cell_type": "markdown",
      "metadata": {
        "id": "HL9n88cpEPn6"
      },
      "source": [
        "Число верно классифицирвоанных объектов класса 3\n"
      ]
    },
    {
      "cell_type": "code",
      "metadata": {
        "colab": {
          "base_uri": "https://localhost:8080/"
        },
        "id": "AiqTvpIaEPn6",
        "outputId": "f8cb869c-4799-47df-ea40-9d7b89c47f6e"
      },
      "source": [
        "CM[3][3]"
      ],
      "execution_count": 18,
      "outputs": [
        {
          "output_type": "execute_result",
          "data": {
            "text/plain": [
              "1521"
            ]
          },
          "metadata": {
            "tags": []
          },
          "execution_count": 18
        }
      ]
    },
    {
      "cell_type": "code",
      "metadata": {
        "id": "1lCbncQPQ6uU"
      },
      "source": [
        "target_names = ['class 0', 'class 1','class 2','class 3','class 4','class 5','class 6','class 7','class 8','class 9']"
      ],
      "execution_count": 19,
      "outputs": []
    },
    {
      "cell_type": "code",
      "metadata": {
        "colab": {
          "base_uri": "https://localhost:8080/"
        },
        "id": "gVvIi3awQ67-",
        "outputId": "23f30f5f-26f2-407e-ae99-d5d6ca3db469"
      },
      "source": [
        "print(classification_report(y_test, y_pred, target_names=target_names))"
      ],
      "execution_count": 20,
      "outputs": [
        {
          "output_type": "stream",
          "text": [
            "              precision    recall  f1-score   support\n",
            "\n",
            "     class 0       0.80      0.81      0.80      1693\n",
            "     class 1       0.93      0.90      0.91      2075\n",
            "     class 2       0.42      0.56      0.48      1763\n",
            "     class 3       0.67      0.81      0.73      1873\n",
            "     class 4       0.67      0.77      0.71      1756\n",
            "     class 5       0.39      0.35      0.37      1591\n",
            "     class 6       0.53      0.40      0.46      1766\n",
            "     class 7       0.76      0.79      0.78      1886\n",
            "     class 8       0.37      0.32      0.35      1773\n",
            "     class 9       0.66      0.51      0.58      1824\n",
            "\n",
            "    accuracy                           0.63     18000\n",
            "   macro avg       0.62      0.62      0.62     18000\n",
            "weighted avg       0.63      0.63      0.62     18000\n",
            "\n"
          ],
          "name": "stdout"
        }
      ]
    },
    {
      "cell_type": "markdown",
      "metadata": {
        "id": "Rv9GMMxeEPn6"
      },
      "source": [
        ""
      ]
    },
    {
      "cell_type": "code",
      "metadata": {
        "colab": {
          "base_uri": "https://localhost:8080/"
        },
        "id": "BKJWu2JJEPn6",
        "outputId": "0db8a2a6-ddaa-48b3-b0ca-6f149a261a78"
      },
      "source": [
        "print(clf.predict_proba(X_train) [11064] [y_pred[6]] )\n",
        "print(clf.predict_proba(X_train) [27490] [y_pred[6]] )\n",
        "print(clf.predict_proba(X_train) [34966] [y_pred[6]] )\n",
        "print(clf.predict_proba(X_train) [31825] [y_pred[6]])\n",
        "print(clf.predict_proba(X_train) [23054] [y_pred[6]] )"
      ],
      "execution_count": 21,
      "outputs": [
        {
          "output_type": "stream",
          "text": [
            "0.0649368243413738\n",
            "0.015237449473605036\n",
            "0.0010274515698591564\n",
            "0.0014037454595052872\n",
            "0.0004772562025719084\n"
          ],
          "name": "stdout"
        }
      ]
    }
  ]
}